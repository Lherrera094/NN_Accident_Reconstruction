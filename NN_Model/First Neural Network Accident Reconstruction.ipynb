{
 "cells": [
  {
   "cell_type": "markdown",
   "id": "binding-surname",
   "metadata": {},
   "source": [
    "# Neural Network for accident reconstruction"
   ]
  },
  {
   "cell_type": "markdown",
   "id": "bored-onion",
   "metadata": {},
   "source": [
    "* Esta función se encarga de leer los archivos de datos y seleccionar aleatoriamente el conjunto de entrenamiento y de testing"
   ]
  },
  {
   "cell_type": "code",
   "execution_count": 1,
   "id": "labeled-turkish",
   "metadata": {},
   "outputs": [],
   "source": [
    "import pandas as pd\n",
    "import numpy as np\n",
    "import matplotlib.pyplot as plt"
   ]
  },
  {
   "cell_type": "code",
   "execution_count": 2,
   "id": "clinical-marathon",
   "metadata": {},
   "outputs": [],
   "source": [
    "entrada = pd.read_excel(\"Inputs.xlsx\")\n",
    "salida = pd.read_excel(\"Outputs.xlsx\")\n",
    "entradaData = entrada[entrada.columns[:-1]]\n",
    "salidaData = salida[salida.columns[:-1]]"
   ]
  },
  {
   "cell_type": "code",
   "execution_count": 3,
   "id": "applied-claim",
   "metadata": {},
   "outputs": [],
   "source": [
    "# Selección aleatoria de datos\n",
    "detector = 0\n",
    "while detector == 0:\n",
    "    a = np.random.randn(len(entrada))\n",
    "    check = (a<0.8)\n",
    "    if sum(check) == 24:\n",
    "        detector = 1\n",
    "    else:\n",
    "        detector = 0\n",
    "\n",
    "input_training= entradaData[check]\n",
    "input_testing = entradaData[~check]\n",
    "output_training = salidaData[check]\n",
    "output_testing = salidaData[~check]"
   ]
  },
  {
   "cell_type": "code",
   "execution_count": 4,
   "id": "photographic-designer",
   "metadata": {},
   "outputs": [
    {
     "data": {
      "text/html": [
       "<div>\n",
       "<style scoped>\n",
       "    .dataframe tbody tr th:only-of-type {\n",
       "        vertical-align: middle;\n",
       "    }\n",
       "\n",
       "    .dataframe tbody tr th {\n",
       "        vertical-align: top;\n",
       "    }\n",
       "\n",
       "    .dataframe thead th {\n",
       "        text-align: right;\n",
       "    }\n",
       "</style>\n",
       "<table border=\"1\" class=\"dataframe\">\n",
       "  <thead>\n",
       "    <tr style=\"text-align: right;\">\n",
       "      <th></th>\n",
       "      <th>v1ix</th>\n",
       "      <th>v1iy</th>\n",
       "      <th>v2ix</th>\n",
       "      <th>v2iy</th>\n",
       "      <th>e</th>\n",
       "    </tr>\n",
       "  </thead>\n",
       "  <tbody>\n",
       "    <tr>\n",
       "      <th>0</th>\n",
       "      <td>15.60</td>\n",
       "      <td>0.10</td>\n",
       "      <td>6.70</td>\n",
       "      <td>0.20</td>\n",
       "      <td>0.19</td>\n",
       "    </tr>\n",
       "    <tr>\n",
       "      <th>16</th>\n",
       "      <td>2.20</td>\n",
       "      <td>-13.91</td>\n",
       "      <td>0.00</td>\n",
       "      <td>14.08</td>\n",
       "      <td>0.10</td>\n",
       "    </tr>\n",
       "    <tr>\n",
       "      <th>18</th>\n",
       "      <td>14.82</td>\n",
       "      <td>-8.56</td>\n",
       "      <td>0.00</td>\n",
       "      <td>11.77</td>\n",
       "      <td>0.10</td>\n",
       "    </tr>\n",
       "    <tr>\n",
       "      <th>19</th>\n",
       "      <td>17.86</td>\n",
       "      <td>0.00</td>\n",
       "      <td>0.00</td>\n",
       "      <td>9.11</td>\n",
       "      <td>0.09</td>\n",
       "    </tr>\n",
       "    <tr>\n",
       "      <th>21</th>\n",
       "      <td>-9.80</td>\n",
       "      <td>9.80</td>\n",
       "      <td>13.78</td>\n",
       "      <td>0.00</td>\n",
       "      <td>0.15</td>\n",
       "    </tr>\n",
       "  </tbody>\n",
       "</table>\n",
       "</div>"
      ],
      "text/plain": [
       "     v1ix   v1iy   v2ix   v2iy     e\n",
       "0   15.60   0.10   6.70   0.20  0.19\n",
       "16   2.20 -13.91   0.00  14.08  0.10\n",
       "18  14.82  -8.56   0.00  11.77  0.10\n",
       "19  17.86   0.00   0.00   9.11  0.09\n",
       "21  -9.80   9.80  13.78   0.00  0.15"
      ]
     },
     "execution_count": 4,
     "metadata": {},
     "output_type": "execute_result"
    }
   ],
   "source": [
    "salidaData[~check]"
   ]
  },
  {
   "cell_type": "markdown",
   "id": "subject-greene",
   "metadata": {},
   "source": [
    "* Se establece la red neuronal "
   ]
  },
  {
   "cell_type": "code",
   "execution_count": 52,
   "id": "mounted-cross",
   "metadata": {},
   "outputs": [],
   "source": [
    "from keras import *\n",
    "from keras.layers import Dense\n",
    "from keras.layers.advanced_activations import PReLU\n",
    "from keras.layers.advanced_activations import ELU\n",
    "from keras.layers.advanced_activations import LeakyReLU"
   ]
  },
  {
   "cell_type": "code",
   "execution_count": 89,
   "id": "married-immigration",
   "metadata": {},
   "outputs": [],
   "source": [
    "net = models.Sequential()\n",
    "net.add(Dense(1000, input_shape = (16,), activation = 'tanh'))\n",
    "net.add(Dense(500, activation = PReLU()))\n",
    "net.add(Dense(500, activation = 'linear'))\n",
    "net.add(Dense(5, activation = 'linear'))"
   ]
  },
  {
   "cell_type": "code",
   "execution_count": 90,
   "id": "hydraulic-bride",
   "metadata": {},
   "outputs": [],
   "source": [
    "net.compile(loss = 'mean_absolute_error',\n",
    "            optimizer = 'adam',\n",
    "            metrics = [\"accuracy\"])"
   ]
  },
  {
   "cell_type": "code",
   "execution_count": 91,
   "id": "satellite-preference",
   "metadata": {},
   "outputs": [
    {
     "name": "stdout",
     "output_type": "stream",
     "text": [
      "Epoch 1/100\n",
      "4/4 [==============================] - 1s 12ms/step - loss: 6.0228 - accuracy: 0.3333\n",
      "Epoch 2/100\n",
      "4/4 [==============================] - 0s 23ms/step - loss: 6.1697 - accuracy: 0.4556\n",
      "Epoch 3/100\n",
      "4/4 [==============================] - 0s 15ms/step - loss: 5.3339 - accuracy: 0.4833\n",
      "Epoch 4/100\n",
      "4/4 [==============================] - 0s 19ms/step - loss: 5.4198 - accuracy: 0.3778\n",
      "Epoch 5/100\n",
      "4/4 [==============================] - 0s 18ms/step - loss: 4.7942 - accuracy: 0.4556\n",
      "Epoch 6/100\n",
      "4/4 [==============================] - 0s 21ms/step - loss: 4.2007 - accuracy: 0.3722\n",
      "Epoch 7/100\n",
      "4/4 [==============================] - 0s 14ms/step - loss: 5.0046 - accuracy: 0.4389\n",
      "Epoch 8/100\n",
      "4/4 [==============================] - 0s 20ms/step - loss: 4.8940 - accuracy: 0.3778\n",
      "Epoch 9/100\n",
      "4/4 [==============================] - 0s 23ms/step - loss: 4.6791 - accuracy: 0.3333\n",
      "Epoch 10/100\n",
      "4/4 [==============================] - 0s 15ms/step - loss: 4.1601 - accuracy: 0.4889\n",
      "Epoch 11/100\n",
      "4/4 [==============================] - 0s 15ms/step - loss: 4.2252 - accuracy: 0.4500\n",
      "Epoch 12/100\n",
      "4/4 [==============================] - 0s 24ms/step - loss: 3.9880 - accuracy: 0.5500\n",
      "Epoch 13/100\n",
      "4/4 [==============================] - 0s 21ms/step - loss: 4.1809 - accuracy: 0.6222\n",
      "Epoch 14/100\n",
      "4/4 [==============================] - 0s 15ms/step - loss: 3.9098 - accuracy: 0.6500\n",
      "Epoch 15/100\n",
      "4/4 [==============================] - 0s 18ms/step - loss: 3.8923 - accuracy: 0.5667\n",
      "Epoch 16/100\n",
      "4/4 [==============================] - 0s 20ms/step - loss: 3.8385 - accuracy: 0.6222\n",
      "Epoch 17/100\n",
      "4/4 [==============================] - 0s 19ms/step - loss: 3.7037 - accuracy: 0.5944\n",
      "Epoch 18/100\n",
      "4/4 [==============================] - 0s 20ms/step - loss: 4.0541 - accuracy: 0.5444\n",
      "Epoch 19/100\n",
      "4/4 [==============================] - 0s 16ms/step - loss: 3.6799 - accuracy: 0.5056\n",
      "Epoch 20/100\n",
      "4/4 [==============================] - 0s 16ms/step - loss: 4.3649 - accuracy: 0.5444\n",
      "Epoch 21/100\n",
      "4/4 [==============================] - 0s 23ms/step - loss: 4.0228 - accuracy: 0.5944\n",
      "Epoch 22/100\n",
      "4/4 [==============================] - 0s 22ms/step - loss: 4.2840 - accuracy: 0.6389\n",
      "Epoch 23/100\n",
      "4/4 [==============================] - 0s 20ms/step - loss: 3.7900 - accuracy: 0.5389\n",
      "Epoch 24/100\n",
      "4/4 [==============================] - 0s 21ms/step - loss: 3.8349 - accuracy: 0.5000\n",
      "Epoch 25/100\n",
      "4/4 [==============================] - 0s 21ms/step - loss: 3.7004 - accuracy: 0.5556\n",
      "Epoch 26/100\n",
      "4/4 [==============================] - 0s 18ms/step - loss: 3.8860 - accuracy: 0.5222\n",
      "Epoch 27/100\n",
      "4/4 [==============================] - 0s 19ms/step - loss: 3.8048 - accuracy: 0.6111\n",
      "Epoch 28/100\n",
      "4/4 [==============================] - 0s 16ms/step - loss: 3.8818 - accuracy: 0.5667\n",
      "Epoch 29/100\n",
      "4/4 [==============================] - 0s 20ms/step - loss: 3.6104 - accuracy: 0.6667\n",
      "Epoch 30/100\n",
      "4/4 [==============================] - 0s 21ms/step - loss: 3.7659 - accuracy: 0.5556\n",
      "Epoch 31/100\n",
      "4/4 [==============================] - 0s 21ms/step - loss: 3.4470 - accuracy: 0.6056\n",
      "Epoch 32/100\n",
      "4/4 [==============================] - 0s 23ms/step - loss: 3.3121 - accuracy: 0.6000\n",
      "Epoch 33/100\n",
      "4/4 [==============================] - 0s 22ms/step - loss: 3.3535 - accuracy: 0.5667\n",
      "Epoch 34/100\n",
      "4/4 [==============================] - 0s 24ms/step - loss: 3.6602 - accuracy: 0.5444\n",
      "Epoch 35/100\n",
      "4/4 [==============================] - 0s 26ms/step - loss: 3.6668 - accuracy: 0.6111\n",
      "Epoch 36/100\n",
      "4/4 [==============================] - 0s 19ms/step - loss: 3.8181 - accuracy: 0.5389\n",
      "Epoch 37/100\n",
      "4/4 [==============================] - 0s 21ms/step - loss: 3.8323 - accuracy: 0.4167\n",
      "Epoch 38/100\n",
      "4/4 [==============================] - 0s 22ms/step - loss: 3.4607 - accuracy: 0.5333\n",
      "Epoch 39/100\n",
      "4/4 [==============================] - 0s 19ms/step - loss: 3.2740 - accuracy: 0.6056\n",
      "Epoch 40/100\n",
      "4/4 [==============================] - 0s 22ms/step - loss: 2.8315 - accuracy: 0.5944\n",
      "Epoch 41/100\n",
      "4/4 [==============================] - 0s 22ms/step - loss: 3.3626 - accuracy: 0.4778\n",
      "Epoch 42/100\n",
      "4/4 [==============================] - 0s 18ms/step - loss: 3.5008 - accuracy: 0.5556\n",
      "Epoch 43/100\n",
      "4/4 [==============================] - 0s 14ms/step - loss: 3.2960 - accuracy: 0.4667\n",
      "Epoch 44/100\n",
      "4/4 [==============================] - 0s 19ms/step - loss: 3.2532 - accuracy: 0.6389\n",
      "Epoch 45/100\n",
      "4/4 [==============================] - 0s 22ms/step - loss: 3.7287 - accuracy: 0.6056\n",
      "Epoch 46/100\n",
      "4/4 [==============================] - 0s 23ms/step - loss: 3.8447 - accuracy: 0.5722\n",
      "Epoch 47/100\n",
      "4/4 [==============================] - 0s 21ms/step - loss: 3.3520 - accuracy: 0.6500\n",
      "Epoch 48/100\n",
      "4/4 [==============================] - 0s 22ms/step - loss: 4.2078 - accuracy: 0.4833\n",
      "Epoch 49/100\n",
      "4/4 [==============================] - 0s 22ms/step - loss: 3.2999 - accuracy: 0.5278\n",
      "Epoch 50/100\n",
      "4/4 [==============================] - 0s 24ms/step - loss: 3.0097 - accuracy: 0.5278\n",
      "Epoch 51/100\n",
      "4/4 [==============================] - 0s 20ms/step - loss: 2.9507 - accuracy: 0.5722\n",
      "Epoch 52/100\n",
      "4/4 [==============================] - 0s 19ms/step - loss: 3.2392 - accuracy: 0.5667\n",
      "Epoch 53/100\n",
      "4/4 [==============================] - 0s 14ms/step - loss: 2.9144 - accuracy: 0.6056\n",
      "Epoch 54/100\n",
      "4/4 [==============================] - 0s 24ms/step - loss: 3.0595 - accuracy: 0.6889\n",
      "Epoch 55/100\n",
      "4/4 [==============================] - 0s 25ms/step - loss: 3.1317 - accuracy: 0.5222\n",
      "Epoch 56/100\n",
      "4/4 [==============================] - 0s 21ms/step - loss: 2.7310 - accuracy: 0.6833\n",
      "Epoch 57/100\n",
      "4/4 [==============================] - 0s 26ms/step - loss: 3.2932 - accuracy: 0.5167\n",
      "Epoch 58/100\n",
      "4/4 [==============================] - 0s 24ms/step - loss: 3.5583 - accuracy: 0.5778\n",
      "Epoch 59/100\n",
      "4/4 [==============================] - 0s 25ms/step - loss: 3.3570 - accuracy: 0.7000\n",
      "Epoch 60/100\n",
      "4/4 [==============================] - 0s 23ms/step - loss: 3.1027 - accuracy: 0.4500\n",
      "Epoch 61/100\n",
      "4/4 [==============================] - 0s 19ms/step - loss: 3.1056 - accuracy: 0.4611\n",
      "Epoch 62/100\n",
      "4/4 [==============================] - 0s 22ms/step - loss: 3.8979 - accuracy: 0.3944\n",
      "Epoch 63/100\n",
      "4/4 [==============================] - 0s 22ms/step - loss: 3.7189 - accuracy: 0.5556\n",
      "Epoch 64/100\n",
      "4/4 [==============================] - 0s 24ms/step - loss: 3.5331 - accuracy: 0.4111\n",
      "Epoch 65/100\n",
      "4/4 [==============================] - 0s 23ms/step - loss: 3.2261 - accuracy: 0.4778\n",
      "Epoch 66/100\n",
      "4/4 [==============================] - 0s 24ms/step - loss: 3.0060 - accuracy: 0.7556\n",
      "Epoch 67/100\n",
      "4/4 [==============================] - 0s 25ms/step - loss: 3.2531 - accuracy: 0.5000\n",
      "Epoch 68/100\n",
      "4/4 [==============================] - 0s 23ms/step - loss: 3.5353 - accuracy: 0.6278\n",
      "Epoch 69/100\n",
      "4/4 [==============================] - 0s 23ms/step - loss: 3.1872 - accuracy: 0.4778\n",
      "Epoch 70/100\n",
      "4/4 [==============================] - 0s 24ms/step - loss: 3.2526 - accuracy: 0.5778\n",
      "Epoch 71/100\n",
      "4/4 [==============================] - 0s 22ms/step - loss: 3.0291 - accuracy: 0.5389\n",
      "Epoch 72/100\n",
      "4/4 [==============================] - 0s 21ms/step - loss: 3.3544 - accuracy: 0.6333\n",
      "Epoch 73/100\n",
      "4/4 [==============================] - 0s 19ms/step - loss: 2.9864 - accuracy: 0.4611\n",
      "Epoch 74/100\n",
      "4/4 [==============================] - 0s 15ms/step - loss: 3.0808 - accuracy: 0.5778\n",
      "Epoch 75/100\n",
      "4/4 [==============================] - 0s 21ms/step - loss: 2.8130 - accuracy: 0.6611\n",
      "Epoch 76/100\n",
      "4/4 [==============================] - 0s 16ms/step - loss: 3.3586 - accuracy: 0.4500\n",
      "Epoch 77/100\n",
      "4/4 [==============================] - 0s 24ms/step - loss: 3.2352 - accuracy: 0.5833\n",
      "Epoch 78/100\n",
      "4/4 [==============================] - 0s 16ms/step - loss: 2.9230 - accuracy: 0.6167\n",
      "Epoch 79/100\n",
      "4/4 [==============================] - 0s 26ms/step - loss: 2.6344 - accuracy: 0.6722\n",
      "Epoch 80/100\n",
      "4/4 [==============================] - 0s 21ms/step - loss: 2.9250 - accuracy: 0.5444\n",
      "Epoch 81/100\n",
      "4/4 [==============================] - 0s 16ms/step - loss: 3.1452 - accuracy: 0.6222\n",
      "Epoch 82/100\n",
      "4/4 [==============================] - 0s 18ms/step - loss: 3.1918 - accuracy: 0.6000\n",
      "Epoch 83/100\n",
      "4/4 [==============================] - 0s 24ms/step - loss: 3.4734 - accuracy: 0.6111\n",
      "Epoch 84/100\n",
      "4/4 [==============================] - 0s 16ms/step - loss: 2.7853 - accuracy: 0.6500\n",
      "Epoch 85/100\n",
      "4/4 [==============================] - 0s 16ms/step - loss: 2.8280 - accuracy: 0.6500\n",
      "Epoch 86/100\n",
      "4/4 [==============================] - 0s 19ms/step - loss: 3.2355 - accuracy: 0.4500\n",
      "Epoch 87/100\n",
      "4/4 [==============================] - 0s 23ms/step - loss: 2.9137 - accuracy: 0.7111\n",
      "Epoch 88/100\n",
      "4/4 [==============================] - 0s 13ms/step - loss: 3.2248 - accuracy: 0.3944\n",
      "Epoch 89/100\n",
      "4/4 [==============================] - 0s 22ms/step - loss: 3.1812 - accuracy: 0.4667\n",
      "Epoch 90/100\n",
      "4/4 [==============================] - 0s 28ms/step - loss: 3.2653 - accuracy: 0.4389\n",
      "Epoch 91/100\n",
      "4/4 [==============================] - 0s 15ms/step - loss: 3.1400 - accuracy: 0.6222\n",
      "Epoch 92/100\n",
      "4/4 [==============================] - 0s 23ms/step - loss: 2.9708 - accuracy: 0.6111\n",
      "Epoch 93/100\n",
      "4/4 [==============================] - 0s 16ms/step - loss: 3.4294 - accuracy: 0.5444\n",
      "Epoch 94/100\n",
      "4/4 [==============================] - 0s 20ms/step - loss: 2.7541 - accuracy: 0.6667\n",
      "Epoch 95/100\n",
      "4/4 [==============================] - 0s 22ms/step - loss: 2.9088 - accuracy: 0.5611\n",
      "Epoch 96/100\n",
      "4/4 [==============================] - 0s 20ms/step - loss: 3.2602 - accuracy: 0.6556\n",
      "Epoch 97/100\n",
      "4/4 [==============================] - 0s 19ms/step - loss: 2.6747 - accuracy: 0.7722\n",
      "Epoch 98/100\n",
      "4/4 [==============================] - 0s 17ms/step - loss: 2.8910 - accuracy: 0.6556\n",
      "Epoch 99/100\n",
      "4/4 [==============================] - 0s 23ms/step - loss: 3.0437 - accuracy: 0.6833\n",
      "Epoch 100/100\n",
      "4/4 [==============================] - 0s 18ms/step - loss: 2.7353 - accuracy: 0.6111\n"
     ]
    }
   ],
   "source": [
    "history = net.fit(input_training, output_training, epochs = 100, batch_size = 6)"
   ]
  },
  {
   "cell_type": "code",
   "execution_count": 92,
   "id": "5bb41ad8",
   "metadata": {},
   "outputs": [
    {
     "name": "stdout",
     "output_type": "stream",
     "text": [
      "dict_keys(['loss', 'accuracy'])\n"
     ]
    },
    {
     "data": {
      "image/png": "[encoded data removed]",
      "text/plain": [
       "<Figure size 432x288 with 1 Axes>"
      ]
     },
     "metadata": {
      "needs_background": "light"
     },
     "output_type": "display_data"
    }
   ],
   "source": [
    "print(history.history.keys())\n",
    "plt.plot(history.history['accuracy'])\n",
    "plt.title('model accuracy')\n",
    "plt.ylabel('accuracy')\n",
    "plt.xlabel('epoch')\n",
    "plt.legend(['train', 'test'], loc='upper left')\n",
    "plt.show()"
   ]
  },
  {
   "cell_type": "code",
   "execution_count": 93,
   "id": "1e43042d",
   "metadata": {},
   "outputs": [
    {
     "data": {
      "image/png": "[encoded data removed]",
      "text/plain": [
       "<Figure size 432x288 with 1 Axes>"
      ]
     },
     "metadata": {
      "needs_background": "light"
     },
     "output_type": "display_data"
    }
   ],
   "source": [
    "plt.plot(history.history['loss'])\n",
    "plt.title('model loss')\n",
    "plt.ylabel('loss')\n",
    "plt.xlabel('epoch')\n",
    "plt.legend(['train', 'test'], loc='upper right')\n",
    "plt.show()"
   ]
  },
  {
   "cell_type": "code",
   "execution_count": 95,
   "id": "liberal-sigma",
   "metadata": {},
   "outputs": [
    {
     "name": "stdout",
     "output_type": "stream",
     "text": [
      "1/1 [==============================] - 0s 89ms/step - loss: 5.3092 - accuracy: 0.4000\n"
     ]
    }
   ],
   "source": [
    "test_loss, test_acc = net.evaluate(input_testing, output_testing)"
   ]
  },
  {
   "cell_type": "code",
   "execution_count": 96,
   "id": "elder-mayor",
   "metadata": {},
   "outputs": [
    {
     "data": {
      "text/html": [
       "<div>\n",
       "<style scoped>\n",
       "    .dataframe tbody tr th:only-of-type {\n",
       "        vertical-align: middle;\n",
       "    }\n",
       "\n",
       "    .dataframe tbody tr th {\n",
       "        vertical-align: top;\n",
       "    }\n",
       "\n",
       "    .dataframe thead th {\n",
       "        text-align: right;\n",
       "    }\n",
       "</style>\n",
       "<table border=\"1\" class=\"dataframe\">\n",
       "  <thead>\n",
       "    <tr style=\"text-align: right;\">\n",
       "      <th></th>\n",
       "      <th>v1ix</th>\n",
       "      <th>v1iy</th>\n",
       "      <th>v2ix</th>\n",
       "      <th>v2iy</th>\n",
       "      <th>e</th>\n",
       "    </tr>\n",
       "  </thead>\n",
       "  <tbody>\n",
       "    <tr>\n",
       "      <th>0</th>\n",
       "      <td>15.6</td>\n",
       "      <td>0.10</td>\n",
       "      <td>6.7</td>\n",
       "      <td>0.20</td>\n",
       "      <td>0.19</td>\n",
       "    </tr>\n",
       "    <tr>\n",
       "      <th>16</th>\n",
       "      <td>2.2</td>\n",
       "      <td>-13.91</td>\n",
       "      <td>0.0</td>\n",
       "      <td>14.08</td>\n",
       "      <td>0.10</td>\n",
       "    </tr>\n",
       "  </tbody>\n",
       "</table>\n",
       "</div>"
      ],
      "text/plain": [
       "    v1ix   v1iy  v2ix   v2iy     e\n",
       "0   15.6   0.10   6.7   0.20  0.19\n",
       "16   2.2 -13.91   0.0  14.08  0.10"
      ]
     },
     "execution_count": 96,
     "metadata": {},
     "output_type": "execute_result"
    }
   ],
   "source": [
    "output_testing[:2]"
   ]
  },
  {
   "cell_type": "code",
   "execution_count": 98,
   "id": "a2a86491",
   "metadata": {},
   "outputs": [
    {
     "data": {
      "text/plain": [
       "array([[ 0.563331  ,  9.498654  , 10.340449  , -1.8435686 , -0.2595969 ],\n",
       "       [ 1.5425435 , -7.8135386 ,  1.0961024 ,  6.673124  ,  0.26340902]],\n",
       "      dtype=float32)"
      ]
     },
     "execution_count": 98,
     "metadata": {},
     "output_type": "execute_result"
    }
   ],
   "source": [
    "net.predict(input_testing[:2])"
   ]
  },
  {
   "cell_type": "code",
   "execution_count": null,
   "id": "400fdf3c",
   "metadata": {},
   "outputs": [],
   "source": []
  }
 ],
 "metadata": {
  "kernelspec": {
   "display_name": "Python 3 (ipykernel)",
   "language": "python",
   "name": "python3"
  },
  "language_info": {
   "codemirror_mode": {
    "name": "ipython",
    "version": 3
   },
   "file_extension": ".py",
   "mimetype": "text/x-python",
   "name": "python",
   "nbconvert_exporter": "python",
   "pygments_lexer": "ipython3",
   "version": "3.8.10"
  }
 },
 "nbformat": 4,
 "nbformat_minor": 5
}
